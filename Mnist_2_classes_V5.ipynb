{
  "nbformat": 4,
  "nbformat_minor": 0,
  "metadata": {
    "colab": {
      "name": "Mnist_2_classes_V5.ipynb",
      "provenance": [],
      "collapsed_sections": []
    },
    "kernelspec": {
      "name": "python3",
      "display_name": "Python 3"
    }
  },
  "cells": [
    {
      "cell_type": "markdown",
      "metadata": {
        "id": "m5W3caYgojbE",
        "colab_type": "text"
      },
      "source": [
        "# IMPORT DATA"
      ]
    },
    {
      "cell_type": "code",
      "metadata": {
        "id": "QgAao6oSvzYd",
        "colab_type": "code",
        "colab": {}
      },
      "source": [
        "# import libraries\n",
        "import requests\n",
        "import gzip\n",
        "import numpy as np\n",
        "import matplotlib.pyplot as plt\n",
        "import pandas as pd\n",
        "from random import randint\n",
        "import math"
      ],
      "execution_count": 0,
      "outputs": []
    },
    {
      "cell_type": "code",
      "metadata": {
        "id": "3Rp_HkDrv6Dk",
        "colab_type": "code",
        "colab": {}
      },
      "source": [
        "# Assing URL to variable\n",
        "url_images_train = 'http://yann.lecun.com/exdb/mnist/train-images-idx3-ubyte.gz'\n",
        "url_labels_train = 'http://yann.lecun.com/exdb/mnist/train-labels-idx1-ubyte.gz'\n",
        "url_images_test = 'http://yann.lecun.com/exdb/mnist/t10k-images-idx3-ubyte.gz'\n",
        "url_labels_test = 'http://yann.lecun.com/exdb/mnist/t10k-labels-idx1-ubyte.gz'"
      ],
      "execution_count": 0,
      "outputs": []
    },
    {
      "cell_type": "code",
      "metadata": {
        "id": "4U3PMIK2v8X4",
        "colab_type": "code",
        "outputId": "006384cc-a9e6-473a-f03a-b59da41a0a1c",
        "colab": {
          "base_uri": "https://localhost:8080/",
          "height": 34
        }
      },
      "source": [
        "# download and write files \n",
        "url_images_train_req = requests.get(url_images_train)\n",
        "url_labels_train_req = requests.get(url_labels_train)\n",
        "url_images_test_req = requests.get(url_images_test)\n",
        "url_labels_test_req = requests.get(url_labels_test)\n",
        "open('images_train.gz', 'wb').write(url_images_train_req.content)\n",
        "open('labels_train.gz', 'wb').write(url_labels_train_req.content)\n",
        "open('images_test.gz', 'wb').write(url_images_test_req.content)\n",
        "open('labels_test.gz', 'wb').write(url_labels_test_req.content)"
      ],
      "execution_count": 3,
      "outputs": [
        {
          "output_type": "execute_result",
          "data": {
            "text/plain": [
              "4542"
            ]
          },
          "metadata": {
            "tags": []
          },
          "execution_count": 3
        }
      ]
    },
    {
      "cell_type": "code",
      "metadata": {
        "id": "WgmZ4ymxwBnX",
        "colab_type": "code",
        "colab": {}
      },
      "source": [
        "# unzip files\n",
        "images_train_gz = gzip.open('images_train.gz','r')\n",
        "images_test_gz = gzip.open('images_test.gz','r')\n",
        "labels_train_gz = gzip.open('labels_train.gz','r')\n",
        "labels_test_gz = gzip.open('labels_test.gz','r')"
      ],
      "execution_count": 0,
      "outputs": []
    },
    {
      "cell_type": "markdown",
      "metadata": {
        "id": "vs7Sa_2aorQk",
        "colab_type": "text"
      },
      "source": [
        "# PROCESS DATASETS\n",
        "### - Shape datasets\n",
        "### - Normilize independent variables\n",
        "### - Drop 0 and 1"
      ]
    },
    {
      "cell_type": "code",
      "metadata": {
        "id": "USL0PaztwF0v",
        "colab_type": "code",
        "colab": {}
      },
      "source": [
        "# assign image size and dataset size\n",
        "image_size = 28\n",
        "num_images_train = 60000\n",
        "num_images_test = 10000\n",
        "# reshape train dataset\n",
        "images_train_gz.read(16)\n",
        "buff_train = images_train_gz.read()\n",
        "data_train = np.frombuffer(buff_train, dtype=np.uint8).astype(np.float32)\n",
        "X_train_pre = data_train.reshape(num_images_train, image_size, image_size,1)\n",
        "# reshape test dataset\n",
        "images_test_gz.read(16)\n",
        "buff_test = images_test_gz.read(image_size * image_size * num_images_test)\n",
        "data_test = np.frombuffer(buff_test, dtype=np.uint8).astype(np.float32)\n",
        "X_test_pre = data_test.reshape(num_images_test, image_size, image_size, 1)"
      ],
      "execution_count": 0,
      "outputs": []
    },
    {
      "cell_type": "code",
      "metadata": {
        "id": "kjpZHI19wJ6V",
        "colab_type": "code",
        "colab": {}
      },
      "source": [
        "# transform train lables\n",
        "labels_train_gz.read(8)\n",
        "buff_label_train = labels_train_gz.read()\n",
        "y_train = np.frombuffer(buff_label_train, dtype=np.uint8).astype(np.int64)\n",
        "# transform test lables\n",
        "labels_test_gz.read(8)\n",
        "buff_label_test = labels_test_gz.read()\n",
        "y_test = np.frombuffer(buff_label_test, dtype=np.uint8).astype(np.int64)"
      ],
      "execution_count": 0,
      "outputs": []
    },
    {
      "cell_type": "code",
      "metadata": {
        "id": "btv-wcznwOA2",
        "colab_type": "code",
        "colab": {}
      },
      "source": [
        "# Flatten images\n",
        "X_train = X_train_pre.reshape(X_train_pre.shape[0], -1)\n",
        "X_test = X_test_pre.reshape(X_test_pre.shape[0], -1)"
      ],
      "execution_count": 0,
      "outputs": []
    },
    {
      "cell_type": "code",
      "metadata": {
        "id": "whj8Jdp6wLx6",
        "colab_type": "code",
        "colab": {}
      },
      "source": [
        "# Normalization\n",
        "X_train_pre = X_train_pre / 255\n",
        "X_test_pre = X_test_pre / 255"
      ],
      "execution_count": 0,
      "outputs": []
    },
    {
      "cell_type": "code",
      "metadata": {
        "id": "yO7SFTpewRFE",
        "colab_type": "code",
        "colab": {}
      },
      "source": [
        "# create a pack for y datasets\n",
        "y_all = [y_test, y_train]"
      ],
      "execution_count": 0,
      "outputs": []
    },
    {
      "cell_type": "code",
      "metadata": {
        "id": "hdY3Kw7mZaW0",
        "colab_type": "code",
        "colab": {}
      },
      "source": [
        "# list of indexes for 0 and 1 value\n",
        "drop_train_0 = np.asarray(np.where(y_train == 0))\n",
        "drop_train_1 = np.asarray(np.where(y_train == 1))\n",
        "drop_test_0 = np.asarray(np.where(y_test == 0))\n",
        "drop_test_1 = np.asarray(np.where(y_test == 1))"
      ],
      "execution_count": 0,
      "outputs": []
    },
    {
      "cell_type": "code",
      "metadata": {
        "id": "ZTc6cqzhaj0I",
        "colab_type": "code",
        "colab": {}
      },
      "source": [
        "# merge lists\n",
        "drop_train = np.concatenate((drop_train_0, drop_train_1), axis = 1)\n",
        "drop_test = np.concatenate((drop_test_0, drop_test_1), axis = 1)"
      ],
      "execution_count": 0,
      "outputs": []
    },
    {
      "cell_type": "code",
      "metadata": {
        "id": "oBqsVCjWcDoN",
        "colab_type": "code",
        "outputId": "9c56d9a3-47bb-4203-8569-021d0f5d509e",
        "colab": {
          "base_uri": "https://localhost:8080/",
          "height": 52
        }
      },
      "source": [
        "# chceck shape\n",
        "print(drop_train.shape)\n",
        "print(drop_test.shape)"
      ],
      "execution_count": 12,
      "outputs": [
        {
          "output_type": "stream",
          "text": [
            "(1, 12665)\n",
            "(1, 2115)\n"
          ],
          "name": "stdout"
        }
      ]
    },
    {
      "cell_type": "code",
      "metadata": {
        "id": "B0R9IAMGcWc2",
        "colab_type": "code",
        "colab": {}
      },
      "source": [
        "# delete rows from datasets by indexes\n",
        "X_train = np.delete(X_train, drop_train, axis=0)\n",
        "y_train = np.delete(y_train, drop_train, axis=0)\n",
        "X_test = np.delete(X_test, drop_test, axis=0)\n",
        "y_test = np.delete(y_test, drop_test, axis=0)"
      ],
      "execution_count": 0,
      "outputs": []
    },
    {
      "cell_type": "code",
      "metadata": {
        "id": "-oABN1ZVdown",
        "colab_type": "code",
        "outputId": "667323f8-dcc2-484c-babd-c7bf9c89a17d",
        "colab": {
          "base_uri": "https://localhost:8080/",
          "height": 86
        }
      },
      "source": [
        "print(X_train.shape)\n",
        "print(y_train.shape)\n",
        "print(X_test.shape)\n",
        "print(y_test.shape)"
      ],
      "execution_count": 14,
      "outputs": [
        {
          "output_type": "stream",
          "text": [
            "(47335, 784)\n",
            "(47335,)\n",
            "(7885, 784)\n",
            "(7885,)\n"
          ],
          "name": "stdout"
        }
      ]
    },
    {
      "cell_type": "code",
      "metadata": {
        "id": "vloCyHTmwUW7",
        "colab_type": "code",
        "colab": {}
      },
      "source": [
        "# Create groups of primes(0) and composites(1)\n",
        "i = 0\n",
        "while i < len(y_train):\n",
        "  if y_train[i] == 2 or y_train[i] == 3 or y_train[i] == 5 or y_train[i] == 7:\n",
        "    y_train[i] = 0  # class containing [2,3,5,7]\n",
        "  else:\n",
        "    y_train[i] = 1  # class containing [4,6,8,9}\n",
        "  i += 1\n",
        "k = 0  \n",
        "while k < len(y_test):\n",
        "  if y_test[k] == 2 or y_test[k] == 3 or y_test[k] == 5 or y_test[k] == 7:\n",
        "    y_test[k] = 0  # class containing [2,3,5,7]\n",
        "  else:\n",
        "    y_test[k] = 1  # class containing [4,6,8,9}\n",
        "  k += 1\n"
      ],
      "execution_count": 0,
      "outputs": []
    },
    {
      "cell_type": "code",
      "metadata": {
        "id": "7IcKIawwf0-3",
        "colab_type": "code",
        "outputId": "095ce484-55e0-49a4-e2e1-49c55b013534",
        "colab": {
          "base_uri": "https://localhost:8080/",
          "height": 86
        }
      },
      "source": [
        "# Check data\n",
        "print(y_train)\n",
        "print(set(y_train))\n",
        "print(y_test)\n",
        "print(set(y_test))"
      ],
      "execution_count": 16,
      "outputs": [
        {
          "output_type": "stream",
          "text": [
            "[0 1 1 ... 0 1 1]\n",
            "{0, 1}\n",
            "[0 0 1 ... 1 0 1]\n",
            "{0, 1}\n"
          ],
          "name": "stdout"
        }
      ]
    },
    {
      "cell_type": "markdown",
      "metadata": {
        "id": "VbyV9_lHo0Qj",
        "colab_type": "text"
      },
      "source": [
        "# MODEL\n",
        "### - Function which create batches\n",
        "### - Model definition"
      ]
    },
    {
      "cell_type": "code",
      "metadata": {
        "id": "32FKeRLLuSTf",
        "colab_type": "code",
        "colab": {}
      },
      "source": [
        "# Create a batch function\n",
        "def get_batch(imgs, labels, batch_size):\n",
        "  img_batches = []\n",
        "  lbl_batches = []\n",
        "  for counter in range(0,len(imgs),batch_size):\n",
        "    img_batches.append(imgs[counter:counter+batch_size])\n",
        "    lbl_batches.append(labels[counter:counter+batch_size])\n",
        "  return np.array(img_batches), np.array(lbl_batches)\n",
        "\n",
        "# Create a predict batch function\n",
        "def get_predict_batch(imgs, batch_size):\n",
        "  img_batches = []\n",
        "  for counter in range(0,len(imgs),batch_size):\n",
        "    img_batches.append(imgs[counter:counter+batch_size])\n",
        "  return np.array(img_batches)"
      ],
      "execution_count": 0,
      "outputs": []
    },
    {
      "cell_type": "code",
      "metadata": {
        "id": "82il4Q3TuV9Z",
        "colab_type": "code",
        "colab": {}
      },
      "source": [
        "class Model():\n",
        "  def __init__(self):   \n",
        "    # Hyperparams\n",
        "    self.num_hidden_node = 64\n",
        "    self.num_epochs = 50\n",
        "    self.batch_size = 1000\n",
        "    self.lr = 1\n",
        "    self.with_momentum = True\n",
        "    self.image_size = 784\n",
        "    self.num_of_classes = 2\n",
        "    if self.with_momentum:\n",
        "      self.mm = 0.95\n",
        "      \n",
        "    # Xavier initialization for w0 and w1\n",
        "    self.w0 = np.random.randn(self.image_size, self.num_hidden_node)/ \\\n",
        "      np.sqrt(self.image_size)\n",
        "    self.w1 = np.random.randn(self.num_hidden_node, self.num_of_classes)/ \\\n",
        "      np.sqrt(self.num_hidden_node)\n",
        "    \n",
        "    # only use this when self.momentum is true \n",
        "    self.v0 = np.zeros(self.w0.shape)\n",
        "    self.v1 = np.zeros(self.w1.shape)\n",
        "\n",
        "  def sigmoid(self, x):\n",
        "    return 1/(1+np.exp(-x))\n",
        "  \n",
        "  def softmax(self, logit, target):\n",
        "    exp_logit = np.exp(logit-np.max(logit))\n",
        "    return exp_logit/(np.sum(exp_logit,axis=1,keepdims=True)+1e-16)\n",
        "  \n",
        "  def fit(self, X: np.ndarray, y: np.ndarray) -> None:\n",
        "    L = []\n",
        "    for epoch in range(self.num_epochs):\n",
        "      # Reduce lr by 1% after each epoch\n",
        "      if epoch > 0:\n",
        "        self.lr *= 0.99\n",
        "      loss_epoch = []\n",
        "      imgs_batch, labels_batch = get_batch(X, y, self.batch_size)\n",
        "      for imgs, labels in zip(imgs_batch, labels_batch):\n",
        "        # forward pass\n",
        "        layer1 = self.sigmoid(np.matmul(imgs, self.w0))\n",
        "        logit = np.matmul(layer1, self.w1)\n",
        "        \n",
        "        softmax = self.softmax(logit,labels)\n",
        "        # clip softmax to avoid too small numbers that lead to overflow in log function\n",
        "        softmax = np.clip(softmax, 1e-10, 1)\n",
        "\n",
        "        # LOSS function\n",
        "        loss = -np.log(softmax[np.arange(0,softmax.shape[0]),labels])\n",
        "        # backward pass\n",
        "        delta_logit = softmax\n",
        "        delta_logit[np.arange(0,delta_logit.shape[0]),labels] -= 1\n",
        "        delta_logit /= delta_logit.shape[0]\n",
        "        \n",
        "        delta_w1 = np.matmul(layer1.T,delta_logit)\n",
        "        delta_l1 = np.matmul(delta_logit, self.w1.T)\n",
        "        delta_l1 *= self.sigmoid(layer1)*(1-self.sigmoid(layer1))\n",
        "        delta_w0 = np.matmul(imgs.T, delta_l1)\n",
        "        \n",
        "        if not self.with_momentum:\n",
        "          self.w0 -= self.lr * delta_w0\n",
        "          self.w1 -= self.lr * delta_w1\n",
        "        else:\n",
        "          # if with momentum, use moving average of velocity\n",
        "          self.v0 = self.mm*self.v0 + (1-self.mm)*delta_w0\n",
        "          self.v1 = self.mm*self.v1 + (1-self.mm)*delta_w1\n",
        "          self.w0 -= self.lr*self.v0\n",
        "          self.w1 -= self.lr*self.v1\n",
        "        if len(loss_epoch) == 0:\n",
        "          loss_epoch = loss\n",
        "        else:\n",
        "          loss_epoch = np.concatenate([loss_epoch, loss], axis=0)\n",
        "      mean = np.mean(loss_epoch)  \n",
        "      L.append(mean)\n",
        "      print('Epoch: ', (epoch + 1), ' Loss: ', np.mean(loss_epoch))\n",
        "    #return L\n",
        "    \n",
        "  def predict(self, X: np.ndarray)-> np.ndarray:\n",
        "    global y_pred\n",
        "    y_pred = []\n",
        "    imgs_batch = get_predict_batch(X_test, self.batch_size)\n",
        "    for imgs in imgs_batch:\n",
        "      layer1 = self.sigmoid(np.matmul(imgs, self.w0))\n",
        "      logit = np.matmul(layer1, self.w1)\n",
        "      softmax = self.softmax(logit, imgs)\n",
        "      pred = np.argmax(softmax, axis=1)\n",
        "      y_pred = np.concatenate([y_pred, pred])\n",
        "\n",
        "  @staticmethod\n",
        "  def evaluate(y_true: np.ndarray, y_pred: np.ndarray)-> float:\n",
        "    total_accuracy = len(np.where(y_pred == y_true)[0])\n",
        "    print('Total accuracy: ', total_accuracy/len(y_true))\n",
        " "
      ],
      "execution_count": 0,
      "outputs": []
    },
    {
      "cell_type": "markdown",
      "metadata": {
        "id": "x3fyhSwFo45P",
        "colab_type": "text"
      },
      "source": [
        "# RESULTS"
      ]
    },
    {
      "cell_type": "code",
      "metadata": {
        "id": "K1-KDxN8ud4x",
        "colab_type": "code",
        "colab": {}
      },
      "source": [
        "model = Model()"
      ],
      "execution_count": 0,
      "outputs": []
    },
    {
      "cell_type": "code",
      "metadata": {
        "id": "2nFXp9VowooG",
        "colab_type": "code",
        "outputId": "c9d2d1b9-2c55-4e6d-c917-d1e0700633ea",
        "colab": {
          "base_uri": "https://localhost:8080/",
          "height": 901
        }
      },
      "source": [
        "model.fit(X_train, y_train)"
      ],
      "execution_count": 264,
      "outputs": [
        {
          "output_type": "stream",
          "text": [
            "/usr/local/lib/python3.6/dist-packages/ipykernel_launcher.py:23: RuntimeWarning: overflow encountered in exp\n"
          ],
          "name": "stderr"
        },
        {
          "output_type": "stream",
          "text": [
            "Epoch:  1  Loss:  0.5645511415288742\n",
            "Epoch:  2  Loss:  0.2998050395128149\n",
            "Epoch:  3  Loss:  0.3154660933601149\n",
            "Epoch:  4  Loss:  0.3240087218595049\n",
            "Epoch:  5  Loss:  0.3284347579514689\n",
            "Epoch:  6  Loss:  0.3429063641597449\n",
            "Epoch:  7  Loss:  0.330910756279937\n",
            "Epoch:  8  Loss:  0.3267588134642748\n",
            "Epoch:  9  Loss:  0.3278753590789439\n",
            "Epoch:  10  Loss:  0.32411792663765954\n",
            "Epoch:  11  Loss:  0.32602560362854166\n",
            "Epoch:  12  Loss:  0.296217051484524\n",
            "Epoch:  13  Loss:  0.3034504740842178\n",
            "Epoch:  14  Loss:  0.28886675600070916\n",
            "Epoch:  15  Loss:  0.2837998444729024\n",
            "Epoch:  16  Loss:  0.27815691515232926\n",
            "Epoch:  17  Loss:  0.2747453172737721\n",
            "Epoch:  18  Loss:  0.2766755797845955\n",
            "Epoch:  19  Loss:  0.265177991871965\n",
            "Epoch:  20  Loss:  0.264097510014648\n",
            "Epoch:  21  Loss:  0.25930347978171064\n",
            "Epoch:  22  Loss:  0.25989340524637833\n",
            "Epoch:  23  Loss:  0.2565498713636408\n",
            "Epoch:  24  Loss:  0.26632312179105083\n",
            "Epoch:  25  Loss:  0.2670212139163501\n",
            "Epoch:  26  Loss:  0.26458041591075354\n",
            "Epoch:  27  Loss:  0.26078625843665854\n",
            "Epoch:  28  Loss:  0.2590830714608313\n",
            "Epoch:  29  Loss:  0.24959815801961124\n",
            "Epoch:  30  Loss:  0.24200868639429815\n",
            "Epoch:  31  Loss:  0.23597217878620672\n",
            "Epoch:  32  Loss:  0.2360974375636608\n",
            "Epoch:  33  Loss:  0.2458355218122236\n",
            "Epoch:  34  Loss:  0.2561251915355822\n",
            "Epoch:  35  Loss:  0.25339053590632926\n",
            "Epoch:  36  Loss:  0.24670775472100165\n",
            "Epoch:  37  Loss:  0.24211719577051732\n",
            "Epoch:  38  Loss:  0.24194881357351666\n",
            "Epoch:  39  Loss:  0.24850495908715464\n",
            "Epoch:  40  Loss:  0.24602567388589652\n",
            "Epoch:  41  Loss:  0.24639648822494084\n",
            "Epoch:  42  Loss:  0.24983850369770372\n",
            "Epoch:  43  Loss:  0.2554486366611108\n",
            "Epoch:  44  Loss:  0.2580052944870666\n",
            "Epoch:  45  Loss:  0.2602941925138489\n",
            "Epoch:  46  Loss:  0.26086900361658494\n",
            "Epoch:  47  Loss:  0.26043158803377525\n",
            "Epoch:  48  Loss:  0.26077418834424787\n",
            "Epoch:  49  Loss:  0.26243315300217546\n",
            "Epoch:  50  Loss:  0.2625075025559061\n"
          ],
          "name": "stdout"
        }
      ]
    },
    {
      "cell_type": "code",
      "metadata": {
        "id": "ZhbgAGKZU2C_",
        "colab_type": "code",
        "outputId": "2c995cf7-763b-4382-e490-caf366418abd",
        "colab": {
          "base_uri": "https://localhost:8080/",
          "height": 34
        }
      },
      "source": [
        "model.predict(X_test)"
      ],
      "execution_count": 265,
      "outputs": [
        {
          "output_type": "stream",
          "text": [
            "/usr/local/lib/python3.6/dist-packages/ipykernel_launcher.py:23: RuntimeWarning: overflow encountered in exp\n"
          ],
          "name": "stderr"
        }
      ]
    },
    {
      "cell_type": "code",
      "metadata": {
        "id": "zUHe-sC4TKwh",
        "colab_type": "code",
        "colab": {
          "base_uri": "https://localhost:8080/",
          "height": 34
        },
        "outputId": "2572ce80-c1a4-4263-ccf4-6c646ed3e6dd"
      },
      "source": [
        "model.evaluate(y_test,y_pred)"
      ],
      "execution_count": 266,
      "outputs": [
        {
          "output_type": "stream",
          "text": [
            "Total accuracy:  0.9166772352568168\n"
          ],
          "name": "stdout"
        }
      ]
    },
    {
      "cell_type": "markdown",
      "metadata": {
        "id": "_4JkihRZpvJQ",
        "colab_type": "text"
      },
      "source": [
        "# Results Analysis\n",
        "## Hyperparameters:\n",
        "### - check couple of results with same parameters\n",
        "### - number of nodes\n",
        "### - number of epochs\n",
        "### - batch size\n",
        "### - momentum"
      ]
    },
    {
      "cell_type": "code",
      "metadata": {
        "id": "44YtHUy1oWGZ",
        "colab_type": "code",
        "colab": {}
      },
      "source": [
        "# Checking noices (number_of_nodes = 16 epochs = 10, batch_size = 500, momentum = 0.9)"
      ],
      "execution_count": 0,
      "outputs": []
    },
    {
      "cell_type": "code",
      "metadata": {
        "id": "por2J879oj07",
        "colab_type": "code",
        "colab": {
          "base_uri": "https://localhost:8080/",
          "height": 269
        },
        "outputId": "ac269b89-8239-4346-c056-d413cc67a8cf"
      },
      "source": [
        "nodes_results = {'1' : 0.8678, '2' : 0.8694, '3' : 0.8681, '4' : 0.8703, \"5\": 0.8702,'6' : 0.8708,'7' : 0.8852,'8' : 0.8669,'9' : 0.8962,'10' : 0.8554}\n",
        "# Barplot\n",
        "plt.bar(*zip(*nodes_results.items()))\n",
        "plt.ylim(0.8, 0.9)\n",
        "plt.show()"
      ],
      "execution_count": 209,
      "outputs": [
        {
          "output_type": "display_data",
          "data": {
            "image/png": "[encoded data removed]",
            "text/plain": [
              "<Figure size 432x288 with 1 Axes>"
            ]
          },
          "metadata": {
            "tags": [],
            "needs_background": "light"
          }
        }
      ]
    },
    {
      "cell_type": "markdown",
      "metadata": {
        "id": "lv8Z1nRcqrEc",
        "colab_type": "text"
      },
      "source": [
        "### the accuracy difference between successive predictions (with the same hyperparamers) can be different by up to several percent"
      ]
    },
    {
      "cell_type": "code",
      "metadata": {
        "id": "dIiv3Os5c3ln",
        "colab_type": "code",
        "colab": {}
      },
      "source": [
        "# Number of nodes (epochs = 20, batch_size = 100, momentum = 0.9)"
      ],
      "execution_count": 0,
      "outputs": []
    },
    {
      "cell_type": "code",
      "metadata": {
        "id": "20ThZTB6daeE",
        "colab_type": "code",
        "colab": {
          "base_uri": "https://localhost:8080/",
          "height": 269
        },
        "outputId": "2caaf8e3-5473-4264-91f2-b98ac2aebd01"
      },
      "source": [
        "nodes_results = {'512' : 0.8390, '256' : 0.8398, '128' : 0.8393, '64' : 0.8374, \"32\": 0.8390, '16' : 0.8428, '8' : 0.8503, '4' : 0.8587 }\n",
        "# Barplot\n",
        "plt.bar(*zip(*nodes_results.items()))\n",
        "plt.ylim(0.8, 0.9)\n",
        "plt.show()"
      ],
      "execution_count": 63,
      "outputs": [
        {
          "output_type": "display_data",
          "data": {
            "image/png": "[encoded data removed]",
            "text/plain": [
              "<Figure size 432x288 with 1 Axes>"
            ]
          },
          "metadata": {
            "tags": [],
            "needs_background": "light"
          }
        }
      ]
    },
    {
      "cell_type": "markdown",
      "metadata": {
        "id": "3su9jMhiiMXw",
        "colab_type": "text"
      },
      "source": [
        "### It looks like number of layers which are near number of classes are best"
      ]
    },
    {
      "cell_type": "code",
      "metadata": {
        "id": "V-ZbOh4Liqol",
        "colab_type": "code",
        "colab": {}
      },
      "source": [
        "# Number of epochs (number_of_nodes = 4, batch_size = 100, momentum = 0.9)"
      ],
      "execution_count": 0,
      "outputs": []
    },
    {
      "cell_type": "code",
      "metadata": {
        "id": "8ia1ZGjRiL5d",
        "colab_type": "code",
        "colab": {
          "base_uri": "https://localhost:8080/",
          "height": 269
        },
        "outputId": "f3bed1df-6348-4123-94d2-8d3f42523119"
      },
      "source": [
        "nodes_results = {'5' : 0.8621, '10' : 0.8560, '20' : 0.8630, '40' : 0.8588, \"80\": 0.8654}\n",
        "# Barplot\n",
        "plt.bar(*zip(*nodes_results.items()))\n",
        "plt.ylim(0.8, 0.9)\n",
        "plt.show()"
      ],
      "execution_count": 90,
      "outputs": [
        {
          "output_type": "display_data",
          "data": {
            "image/png": "[encoded data removed]",
            "text/plain": [
              "<Figure size 432x288 with 1 Axes>"
            ]
          },
          "metadata": {
            "tags": [],
            "needs_background": "light"
          }
        }
      ]
    },
    {
      "cell_type": "markdown",
      "metadata": {
        "id": "_DJq5JdDkMls",
        "colab_type": "text"
      },
      "source": [
        "### There is no visible correlation between number of epochs and accuracy"
      ]
    },
    {
      "cell_type": "code",
      "metadata": {
        "id": "nZUB8KlDkhAR",
        "colab_type": "code",
        "colab": {}
      },
      "source": [
        "# Batch_size (number_of_nodes = 4, epochs = 5, momentum = 0.9)"
      ],
      "execution_count": 0,
      "outputs": []
    },
    {
      "cell_type": "code",
      "metadata": {
        "id": "rnEQNXGIkpi1",
        "colab_type": "code",
        "colab": {
          "base_uri": "https://localhost:8080/",
          "height": 269
        },
        "outputId": "f934d276-4c44-4141-8b15-7e632e8d7844"
      },
      "source": [
        "nodes_results = {'50' : 0.8500, '100' : 0.8523, '200' : 0.8584, '400' : 0.8593, \"1000\": 0.8689, \"2000\": 0.8471}\n",
        "# Barplot\n",
        "plt.bar(*zip(*nodes_results.items()))\n",
        "plt.ylim(0.8, 0.9)\n",
        "plt.show()"
      ],
      "execution_count": 122,
      "outputs": [
        {
          "output_type": "display_data",
          "data": {
            "image/png": "[encoded data removed]",
            "text/plain": [
              "<Figure size 432x288 with 1 Axes>"
            ]
          },
          "metadata": {
            "tags": [],
            "needs_background": "light"
          }
        }
      ]
    },
    {
      "cell_type": "markdown",
      "metadata": {
        "id": "8VtVTCTylzQz",
        "colab_type": "text"
      },
      "source": [
        "### It looks like increasing the batch size results in better accuracy, up to some point when it start decreasing again, optimal value is probably somewhere around 1000 smaples"
      ]
    },
    {
      "cell_type": "code",
      "metadata": {
        "id": "peLZQ0CklxQE",
        "colab_type": "code",
        "colab": {}
      },
      "source": [
        "# Momentum (number_of_nodes = 4, epochs = 5, Batch_size = 1000)"
      ],
      "execution_count": 0,
      "outputs": []
    },
    {
      "cell_type": "code",
      "metadata": {
        "id": "DZn0J3hmlt8H",
        "colab_type": "code",
        "colab": {
          "base_uri": "https://localhost:8080/",
          "height": 265
        },
        "outputId": "f2bc2c31-a97e-49f9-e05c-dafbe4d9c572"
      },
      "source": [
        "nodes_results = {'0.8' : 0.8571, '0.85' : 0.8554, '0.9' : 0.8606, '0.95' : 0.9028, '0.98': 0.8781}\n",
        "# Barplot\n",
        "plt.bar(*zip(*nodes_results.items()))\n",
        "plt.ylim(0.8, 0.95)\n",
        "plt.show()"
      ],
      "execution_count": 164,
      "outputs": [
        {
          "output_type": "display_data",
          "data": {
            "image/png": "[encoded data removed]",
            "text/plain": [
              "<Figure size 432x288 with 1 Axes>"
            ]
          },
          "metadata": {
            "tags": [],
            "needs_background": "light"
          }
        }
      ]
    },
    {
      "cell_type": "markdown",
      "metadata": {
        "id": "QA_KVT5_n8-9",
        "colab_type": "text"
      },
      "source": [
        "### Results for different momentum are random, it is hard to find any correlation"
      ]
    },
    {
      "cell_type": "markdown",
      "metadata": {
        "id": "Pqw_lSgcn5wn",
        "colab_type": "text"
      },
      "source": [
        "# Final Conclusions\n",
        "\n",
        "## It seems that checked values of analyzed parameters have not significant influence on model accuracy. Especially considering the fact, that accuracy strongly depend on model noice"
      ]
    }
  ]
}